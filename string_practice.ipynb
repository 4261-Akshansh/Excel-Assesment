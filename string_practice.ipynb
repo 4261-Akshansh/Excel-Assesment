{
  "nbformat": 4,
  "nbformat_minor": 0,
  "metadata": {
    "colab": {
      "provenance": [],
      "authorship_tag": "ABX9TyMC+I67gK3GcDRJ3VEIcOJR",
      "include_colab_link": true
    },
    "kernelspec": {
      "name": "python3",
      "display_name": "Python 3"
    },
    "language_info": {
      "name": "python"
    }
  },
  "cells": [
    {
      "cell_type": "markdown",
      "metadata": {
        "id": "view-in-github",
        "colab_type": "text"
      },
      "source": [
        "<a href=\"https://colab.research.google.com/github/4261-Akshansh/Excel-Assesment/blob/main/string_practice.ipynb\" target=\"_parent\"><img src=\"https://colab.research.google.com/assets/colab-badge.svg\" alt=\"Open In Colab\"/></a>"
      ]
    },
    {
      "cell_type": "code",
      "execution_count": 1,
      "metadata": {
        "colab": {
          "base_uri": "https://localhost:8080/"
        },
        "id": "e4hnG7NtcDHl",
        "outputId": "fa6c0211-5b58-4d38-d8e8-1c6e3d89fbc3"
      },
      "outputs": [
        {
          "output_type": "stream",
          "name": "stdout",
          "text": [
            "Akshansh\n"
          ]
        }
      ],
      "source": [
        "name=\"Akshansh\"\n",
        "print(name)"
      ]
    },
    {
      "cell_type": "code",
      "source": [
        "print(len(name))"
      ],
      "metadata": {
        "colab": {
          "base_uri": "https://localhost:8080/"
        },
        "id": "oBxn-SsNcP5X",
        "outputId": "99cd778c-0734-4f39-a098-fee0da1b15d8"
      },
      "execution_count": 2,
      "outputs": [
        {
          "output_type": "stream",
          "name": "stdout",
          "text": [
            "8\n"
          ]
        }
      ]
    },
    {
      "cell_type": "code",
      "source": [
        "print(name[2])"
      ],
      "metadata": {
        "colab": {
          "base_uri": "https://localhost:8080/"
        },
        "id": "3oAV2AqKcWqM",
        "outputId": "0c31b7c5-d182-4def-e42e-686ad5a33c34"
      },
      "execution_count": 3,
      "outputs": [
        {
          "output_type": "stream",
          "name": "stdout",
          "text": [
            "s\n"
          ]
        }
      ]
    },
    {
      "cell_type": "code",
      "source": [
        "print(name[0:5])"
      ],
      "metadata": {
        "colab": {
          "base_uri": "https://localhost:8080/"
        },
        "id": "-5ZsHki2ccBZ",
        "outputId": "42f6f34e-3434-4460-bc11-0385f189e0f2"
      },
      "execution_count": 4,
      "outputs": [
        {
          "output_type": "stream",
          "name": "stdout",
          "text": [
            "Aksha\n"
          ]
        }
      ]
    },
    {
      "cell_type": "code",
      "source": [
        "print(name[:4])"
      ],
      "metadata": {
        "colab": {
          "base_uri": "https://localhost:8080/"
        },
        "id": "qUA6tLzpciq-",
        "outputId": "d00a569c-feb8-4697-f503-03455acd323c"
      },
      "execution_count": 5,
      "outputs": [
        {
          "output_type": "stream",
          "name": "stdout",
          "text": [
            "Aksh\n"
          ]
        }
      ]
    },
    {
      "cell_type": "code",
      "source": [
        "print(name[2:])"
      ],
      "metadata": {
        "colab": {
          "base_uri": "https://localhost:8080/"
        },
        "id": "ktTHNtRQcqDB",
        "outputId": "52259c52-7b1b-4c0c-a975-ea26bed5441f"
      },
      "execution_count": 6,
      "outputs": [
        {
          "output_type": "stream",
          "name": "stdout",
          "text": [
            "shansh\n"
          ]
        }
      ]
    },
    {
      "cell_type": "code",
      "source": [
        "print(name[2:5])"
      ],
      "metadata": {
        "colab": {
          "base_uri": "https://localhost:8080/"
        },
        "id": "-CWCS1YAc1Kk",
        "outputId": "922b49ef-82af-40e2-c1d7-95e11afc2ac4"
      },
      "execution_count": 7,
      "outputs": [
        {
          "output_type": "stream",
          "name": "stdout",
          "text": [
            "sha\n"
          ]
        }
      ]
    },
    {
      "cell_type": "code",
      "source": [
        "print(name.upper())"
      ],
      "metadata": {
        "colab": {
          "base_uri": "https://localhost:8080/"
        },
        "id": "cB6TlRzHc4sa",
        "outputId": "852b0b55-2048-48bf-bd97-a408b8dc756a"
      },
      "execution_count": 8,
      "outputs": [
        {
          "output_type": "stream",
          "name": "stdout",
          "text": [
            "AKSHANSH\n"
          ]
        }
      ]
    },
    {
      "cell_type": "code",
      "source": [
        "print(name.count(\"h\"))"
      ],
      "metadata": {
        "colab": {
          "base_uri": "https://localhost:8080/"
        },
        "id": "BDtHtqSdc8V-",
        "outputId": "068e80d1-3156-45c2-8ce0-19ccf4e50125"
      },
      "execution_count": 11,
      "outputs": [
        {
          "output_type": "stream",
          "name": "stdout",
          "text": [
            "2\n"
          ]
        }
      ]
    },
    {
      "cell_type": "code",
      "source": [
        "#string formatting\n",
        "message=\"Hello !\"\n",
        "m=message+name\n",
        "print(m)"
      ],
      "metadata": {
        "colab": {
          "base_uri": "https://localhost:8080/"
        },
        "id": "46esq9zKdPk0",
        "outputId": "07921c98-1037-462e-b4c0-8d893a32e0fd"
      },
      "execution_count": 13,
      "outputs": [
        {
          "output_type": "stream",
          "name": "stdout",
          "text": [
            "Hello !Akshansh\n"
          ]
        }
      ]
    },
    {
      "cell_type": "code",
      "source": [
        "m=message+\" \"+name\n",
        "print(m)"
      ],
      "metadata": {
        "colab": {
          "base_uri": "https://localhost:8080/"
        },
        "id": "HdzIuf3BdhPU",
        "outputId": "28557364-98b4-4dc3-9b21-08d347271c65"
      },
      "execution_count": 17,
      "outputs": [
        {
          "output_type": "stream",
          "name": "stdout",
          "text": [
            "Hello ! Akshansh\n"
          ]
        }
      ]
    },
    {
      "cell_type": "code",
      "source": [
        "m='{} {}'.format(message,name)\n",
        "print(m)"
      ],
      "metadata": {
        "colab": {
          "base_uri": "https://localhost:8080/"
        },
        "id": "9pJJ2gH6d-wy",
        "outputId": "6cbf2584-1f9d-4c74-dfdb-99dd1be555f8"
      },
      "execution_count": 23,
      "outputs": [
        {
          "output_type": "stream",
          "name": "stdout",
          "text": [
            "Hello ! Akshansh\n"
          ]
        }
      ]
    },
    {
      "cell_type": "code",
      "source": [
        "#above same thing using f-string\n",
        "m=f\"{message} {name}\"\n",
        "print(m)"
      ],
      "metadata": {
        "colab": {
          "base_uri": "https://localhost:8080/"
        },
        "id": "enlBAjM9ducq",
        "outputId": "f147bea9-6149-4658-9701-0819ca1f5bbc"
      },
      "execution_count": 20,
      "outputs": [
        {
          "output_type": "stream",
          "name": "stdout",
          "text": [
            "Hello ! Akshansh\n"
          ]
        }
      ]
    },
    {
      "cell_type": "code",
      "source": [
        "l=['value1','value2','value3','value4']\n",
        "print(l)\n",
        "print(type(l))\n",
        "str_l=\" - \".join(l)\n",
        "print(str_l)\n",
        "print(type(str_l))\n",
        "list_l=str_l.split(\" - \")\n",
        "print(list_l)\n",
        "print(type(list_l))"
      ],
      "metadata": {
        "colab": {
          "base_uri": "https://localhost:8080/"
        },
        "id": "4xrAXzv5eQ3I",
        "outputId": "812e94e8-86e6-4b6b-c135-783ad23ec374"
      },
      "execution_count": 31,
      "outputs": [
        {
          "output_type": "stream",
          "name": "stdout",
          "text": [
            "['value1', 'value2', 'value3', 'value4']\n",
            "<class 'list'>\n",
            "value1 - value2 - value3 - value4\n",
            "<class 'str'>\n",
            "['value1', 'value2', 'value3', 'value4']\n",
            "<class 'list'>\n"
          ]
        }
      ]
    }
  ]
}